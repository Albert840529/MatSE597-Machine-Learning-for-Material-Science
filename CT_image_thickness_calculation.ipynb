{
  "cells": [
    {
      "cell_type": "markdown",
      "metadata": {
        "id": "view-in-github",
        "colab_type": "text"
      },
      "source": [
        "<a href=\"https://colab.research.google.com/github/Albert840529/MatSE597_Final_project/blob/main/CT_image_thickness_calculation.ipynb\" target=\"_parent\"><img src=\"https://colab.research.google.com/assets/colab-badge.svg\" alt=\"Open In Colab\"/></a>"
      ]
    },
    {
      "cell_type": "markdown",
      "source": [
        "Connect to googel drive"
      ],
      "metadata": {
        "id": "ura7sW8tgFUv"
      }
    },
    {
      "cell_type": "code",
      "execution_count": 1,
      "metadata": {
        "colab": {
          "base_uri": "https://localhost:8080/"
        },
        "id": "Lq4pUfOL-Esy",
        "outputId": "2b88bc57-017d-4ab5-8956-6d3dc635f7e5"
      },
      "outputs": [
        {
          "output_type": "stream",
          "name": "stdout",
          "text": [
            "Mounted at /content/drive\n"
          ]
        }
      ],
      "source": [
        "from google.colab import drive\n",
        "drive.mount('/content/drive')"
      ]
    },
    {
      "cell_type": "markdown",
      "source": [
        "Test loading the image and see how it looks like. After Ostu method, got the threshold value."
      ],
      "metadata": {
        "id": "Ei2L3pSFgKrX"
      }
    },
    {
      "cell_type": "code",
      "execution_count": 53,
      "metadata": {
        "colab": {
          "base_uri": "https://localhost:8080/",
          "height": 423
        },
        "id": "qR_Ib3Nz-NbC",
        "outputId": "746c7747-0d2e-48aa-b142-e996fbd0f62d"
      },
      "outputs": [
        {
          "output_type": "display_data",
          "data": {
            "text/plain": [
              "<PIL.Image.Image image mode=L size=417x406 at 0x7F4A3DE2F040>"
            ],
            "image/png": "[encoded data removed]"
          },
          "metadata": {}
        }
      ],
      "source": [
        "# /content/drive/MyDrive/Colab Notebooks/test/IPP15_10.jpg\n",
        "import cv2\n",
        "from google.colab.patches import cv2_imshow\n",
        "\n",
        "# Load the image\n",
        "img = cv2.imread(\"/content/drive/MyDrive/Colab Notebooks/test/Ipp_15_10_crop.jpg\", 0)\n",
        "\n",
        "# Apply Otsu's method to find the threshold value\n",
        "ret, thresh = cv2.threshold(img, 0, 255, cv2.THRESH_BINARY + cv2.THRESH_OTSU)\n",
        "\n",
        "# Display the binary image\n",
        "cv2_imshow(thresh)"
      ]
    },
    {
      "cell_type": "markdown",
      "source": [
        "Test the code for calculating the aggregate gypsum thickness on one image"
      ],
      "metadata": {
        "id": "JvExIFWwgfvk"
      }
    },
    {
      "cell_type": "code",
      "execution_count": 54,
      "metadata": {
        "colab": {
          "base_uri": "https://localhost:8080/"
        },
        "id": "byKJowgDBTx7",
        "outputId": "4da84873-3cb5-4c4c-cad0-0084e7d06c45"
      },
      "outputs": [
        {
          "output_type": "stream",
          "name": "stdout",
          "text": [
            "[41.125, 36.666666666666664, 40.875, 39.75, 44.714285714285715, 33.55555555555556, 28.9, 19.357142857142858, 22.90909090909091, 25.0, 21.333333333333332, 26.6, 26.9, 33.875, 30.555555555555557, 30.555555555555557, 31.555555555555557, 36.5, 42.857142857142854, 37.0, 32.888888888888886, 29.3, 43.285714285714285, 34.44444444444444, 28.09090909090909, 28.363636363636363, 28.727272727272727, 35.22222222222222, 34.888888888888886, 39.5, 35.111111111111114, 31.7, 39.75, 35.666666666666664, 36.111111111111114, 36.333333333333336, 36.22222222222222, 30.09090909090909, 30.09090909090909, 30.363636363636363, 31.0, 38.666666666666664, 35.2, 31.90909090909091, 31.727272727272727, 34.6, 34.1, 30.545454545454547, 33.9, 33.9, 33.9, 36.888888888888886, 41.25, 41.5, 41.25, 36.333333333333336, 29.09090909090909, 28.181818181818183, 30.2, 30.1, 29.8, 24.666666666666668, 24.666666666666668, 24.5, 26.454545454545453, 26.363636363636363, 20.714285714285715, 22.615384615384617, 20.642857142857142, 23.25, 25.0, 22.833333333333332, 20.846153846153847, 21.153846153846153, 21.53846153846154, 21.23076923076923, 21.23076923076923, 20.692307692307693, 19.214285714285715, 18.928571428571427, 17.6, 23.90909090909091, 23.454545454545453, 23.636363636363637, 23.181818181818183, 21.5, 21.416666666666668, 24.0, 21.583333333333332, 21.416666666666668, 21.25, 23.636363636363637, 24.545454545454547, 27.5, 35.75, 41.285714285714285, 41.57142857142857, 36.125, 32.888888888888886, 29.9, 27.636363636363637, 31.1, 31.4, 28.181818181818183, 31.0, 31.1, 31.0, 31.1, 30.6, 33.77777777777778, 33.666666666666664, 29.5, 26.0, 25.181818181818183, 24.90909090909091, 24.545454545454547, 26.8, 23.818181818181817, 23.636363636363637, 21.083333333333332, 17.285714285714285, 19.666666666666668, 19.583333333333332, 18.307692307692307, 18.923076923076923, 19.307692307692307, 19.23076923076923, 19.0, 16.8, 16.733333333333334, 15.875, 21.25, 21.416666666666668, 19.692307692307693, 21.75, 21.916666666666668, 22.583333333333332, 27.6, 27.3, 25.272727272727273, 20.071428571428573, 21.307692307692307, 16.9375, 17.25, 20.142857142857142, 24.083333333333332, 25.083333333333332, 24.666666666666668, 27.363636363636363, 27.09090909090909, 27.09090909090909, 26.90909090909091, 26.727272727272727, 24.25, 21.53846153846154, 25.363636363636363, 25.0, 25.0, 24.636363636363637, 20.46153846153846, 21.833333333333332, 22.0, 24.0, 20.0, 17.2, 18.642857142857142, 20.0, 21.833333333333332, 24.363636363636363, 26.5, 24.09090909090909, 22.5, 23.333333333333332, 26.181818181818183, 26.818181818181817, 25.0, 33.666666666666664, 38.25, 44.0, 51.166666666666664, 51.166666666666664, 61.4, 61.4, 61.4, 62.0, 51.333333333333336, 51.0, 51.166666666666664, 50.833333333333336, 43.42857142857143, 50.666666666666664, 49.666666666666664, 36.625, 32.888888888888886, 33.0, 32.77777777777778, 37.125, 33.111111111111114, 30.2, 27.272727272727273, 27.272727272727273, 24.5, 26.636363636363637, 33.55555555555556, 38.0, 38.0, 38.0, 38.25, 34.44444444444444, 30.9, 34.666666666666664, 31.4, 31.2, 34.666666666666664, 31.6, 31.7, 25.916666666666668, 21.785714285714285, 20.133333333333333, 21.571428571428573, 21.357142857142858, 22.615384615384617, 20.5, 23.666666666666668, 21.0, 20.846153846153847, 19.0, 18.428571428571427, 17.785714285714285, 16.0625, 18.857142857142858, 20.46153846153846, 20.0, 18.5, 18.357142857142858, 16.4375, 15.176470588235293, 16.933333333333334, 16.866666666666667, 17.2, 16.933333333333334, 15.875, 16.8, 16.533333333333335, 17.928571428571427, 18.923076923076923, 20.416666666666668, 20.416666666666668, 20.666666666666668, 20.166666666666668, 21.636363636363637, 22.0, 16.6, 15.625, 19.076923076923077, 19.0, 16.666666666666668, 17.642857142857142, 19.23076923076923, 18.0, 20.583333333333332, 22.545454545454547, 19.153846153846153, 20.916666666666668, 19.384615384615383, 20.5, 20.333333333333332, 17.428571428571427, 20.583333333333332, 17.5, 16.4, 16.666666666666668, 18.428571428571427, 20.0, 24.09090909090909, 24.545454545454547, 22.416666666666668, 27.8, 26.454545454545453, 33.0, 26.727272727272727, 29.7, 29.1, 23.583333333333332, 20.53846153846154, 16.8, 14.411764705882353, 13.777777777777779, 15.352941176470589, 16.1875, 14.352941176470589, 14.764705882352942, 15.352941176470589, 16.8125, 16.75, 15.294117647058824, 13.68421052631579, 14.666666666666666, 14.277777777777779, 15.352941176470589, 15.8125, 13.777777777777779, 15.5625, 17.857142857142858, 17.266666666666666, 17.533333333333335, 17.333333333333332, 18.066666666666666, 21.846153846153847, 19.133333333333333, 22.23076923076923, 21.76923076923077, 23.0, 22.666666666666668, 24.181818181818183, 21.833333333333332, 22.0, 24.0, 26.2, 26.4, 26.1, 29.11111111111111, 23.181818181818183, 23.363636363636363, 20.153846153846153, 22.333333333333332, 20.846153846153847, 19.071428571428573, 24.636363636363637, 27.2, 31.0, 28.0, 27.0, 26.3, 22.90909090909091, 20.75, 22.09090909090909, 21.181818181818183, 20.90909090909091, 19.833333333333332, 21.90909090909091, 22.818181818181817, 25.4, 23.0, 23.181818181818183, 23.09090909090909, 19.384615384615383, 17.0, 19.923076923076923, 17.733333333333334, 19.714285714285715, 21.76923076923077, 21.071428571428573, 22.76923076923077, 27.545454545454547, 27.454545454545453, 27.454545454545453, 25.0, 24.666666666666668, 23.076923076923077, 23.23076923076923, 30.9, 38.125, 34.0, 27.454545454545453, 32.666666666666664, 29.2, 26.272727272727273, 24.166666666666668, 33.0, 25.416666666666668, 28.0, 28.181818181818183, 28.09090909090909, 34.0, 38.125, 44.0, 37.75, 33.333333333333336, 33.111111111111114, 37.0, 36.625, 28.5, 26.0, 31.444444444444443, 31.22222222222222, 34.75, 31.555555555555557, 35.75, 31.444444444444443, 31.0, 25.181818181818183, 30.444444444444443, 27.2, 24.636363636363637, 24.181818181818183, 27.1, 27.6, 35.25, 40.0, 31.444444444444443, 36.25, 41.285714285714285, 40.857142857142854, 41.42857142857143, 36.25, 59.4, 59.6, 42.857142857142854, 50.0, 60.6, 63.2, 52.666666666666664, 45.285714285714285, 47.142857142857146, 33.3, 41.375]\n",
            "205.17436416762305 9.376856121017344\n"
          ]
        }
      ],
      "source": [
        "import numpy as np\n",
        "\n",
        "def one_image_thickness(height, width, thresh):\n",
        "    avg_white_pixels = []\n",
        "    for w in range(width):\n",
        "        white_pixels = []\n",
        "        for h in range(height):\n",
        "            if thresh[h,w] == 255:\n",
        "                white_pixels.append(h)\n",
        "        if len(white_pixels) > 0:\n",
        "            white_pixels = np.array(white_pixels)\n",
        "            diff = np.diff(white_pixels)\n",
        "            continuous = np.where(diff > 1)[0]\n",
        "            if len(continuous) > 0:\n",
        "                segments = np.split(white_pixels, continuous + 1)\n",
        "                lengths = [len(segment) for segment in segments]\n",
        "                avg_white_pixels.append(sum(lengths) / len(lengths))\n",
        "            else:\n",
        "                avg_white_pixels.append(len(white_pixels))\n",
        "        else:\n",
        "            avg_white_pixels.append(0)\n",
        "    return avg_white_pixels\n",
        "\n",
        "height, width = thresh.shape\n",
        "avg_white_pixels = one_image_thickness(height, width, thresh)\n",
        "\n",
        "# Display the average continuous white pixels at each width position\n",
        "print(avg_white_pixels)\n",
        "print(np.mean(avg_white_pixels)*7.5, np.std(avg_white_pixels))"
      ]
    },
    {
      "cell_type": "markdown",
      "source": [
        "# Code for read all image and calculate gypsum thickness for all image, output into csv file. "
      ],
      "metadata": {
        "id": "R3gojcKWwhtR"
      }
    },
    {
      "cell_type": "code",
      "execution_count": 55,
      "metadata": {
        "id": "SXjF3bcDr1xe"
      },
      "outputs": [],
      "source": [
        "import cv2\n",
        "import numpy as np\n",
        "import os\n",
        "import csv\n",
        "\n",
        "def calculate_thickness(input_dirs, pixel_size=7.5):\n",
        "    i = 1\n",
        "    for input_dir in input_dirs:\n",
        "        print(f'Runnning {i} of {len(input_dirs)} folders')\n",
        "        print(f'Now working on {input_dir}...............')\n",
        "         # Define the output directory as the same as input directory\n",
        "        output_dir = input_dir\n",
        "\n",
        "        # Define the output CSV file name as the same as the input directory name\n",
        "        output_file = os.path.join(output_dir, os.path.basename(input_dir) + '.csv')\n",
        "        # Initialize the output CSV file\n",
        "        with open(output_file, 'w', newline='') as csvfile:\n",
        "            writer = csv.writer(csvfile)\n",
        "            writer.writerow(['Image Name', 'Average White Pixels', 'Standard Deviation', 'Average Thickness(µm)', 'Standard Deviation of Thickness', 'UTS (MPa)',\n",
        "                             'Elongation at break (%)', \"Young's Modulus (GPa)\" ])\n",
        "\n",
        "        # Loop over all the images in the input directory\n",
        "        for filename in os.listdir(input_dir):\n",
        "            if filename.endswith('.jpg') or filename.endswith('.png'):\n",
        "                # Load the binary image\n",
        "                img = cv2.imread(os.path.join(input_dir, filename), 0)\n",
        "                ret, thresh = cv2.threshold(img, 0, 255, cv2.THRESH_BINARY + cv2.THRESH_OTSU)\n",
        "\n",
        "                # Scan each width position and compute the average continuous white pixels\n",
        "                height, width = thresh.shape\n",
        "                avg_white_pixels = one_image_thickness(height, width, thresh)\n",
        "\n",
        "                # Compute the average and standard deviation of the average continuous white pixels\n",
        "                avg = np.mean(avg_white_pixels)\n",
        "                std = np.std(avg_white_pixels)\n",
        "                avg_thickness = avg * pixel_size\n",
        "                std_thickness = std * pixel_size\n",
        "                folder_name = os.path.basename(os.path.normpath(input_dir))\n",
        "                uts_value = folder_name.split('_')[-3]\n",
        "                elongation = float(folder_name.split('_')[-1])\n",
        "                ym = float(folder_name.split('_')[-2])\n",
        "\n",
        "                # Append the data to the output CSV file\n",
        "                with open(output_file, 'a', newline='') as csvfile:\n",
        "                    writer = csv.writer(csvfile)\n",
        "                    writer.writerow([filename, avg, std, avg_thickness, std_thickness, uts_value, elongation, ym])\n",
        "\n",
        "        i += 1\n"
      ]
    },
    {
      "cell_type": "code",
      "source": [
        "def get_folders(path):\n",
        "    folders = []\n",
        "    for root, dirs, files in os.walk(path):\n",
        "        for dir in dirs:\n",
        "            print(dir)\n",
        "            folders.append(os.path.join(root, dir))\n",
        "    return folders\n",
        "\n",
        "folders = get_folders('/content/drive/MyDrive/Colab Notebooks/MatSE597/Project/test')"
      ],
      "metadata": {
        "colab": {
          "base_uri": "https://localhost:8080/"
        },
        "id": "kdRd012WsUJo",
        "outputId": "a5ef58dd-ff9f-45cd-96ae-99b0a37e576b"
      },
      "execution_count": 56,
      "outputs": [
        {
          "output_type": "stream",
          "name": "stdout",
          "text": [
            "IPP_5%_6_0.88_2.22_1.45\n",
            "R_10_IPP_20%_3_4.46_2.01_1.33\n"
          ]
        }
      ]
    },
    {
      "cell_type": "code",
      "source": [
        "print(len(folders))"
      ],
      "metadata": {
        "colab": {
          "base_uri": "https://localhost:8080/"
        },
        "id": "v21JfyJVsh2q",
        "outputId": "38f348ca-103c-4987-a8b9-40a0ff08dbeb"
      },
      "execution_count": 57,
      "outputs": [
        {
          "output_type": "stream",
          "name": "stdout",
          "text": [
            "2\n"
          ]
        }
      ]
    },
    {
      "cell_type": "code",
      "source": [
        "calculate_thickness(folders)"
      ],
      "metadata": {
        "colab": {
          "base_uri": "https://localhost:8080/"
        },
        "id": "cjA2aIfPsxlN",
        "outputId": "89e55fc2-fc36-44f5-d878-fc2d4b134cc2"
      },
      "execution_count": 58,
      "outputs": [
        {
          "output_type": "stream",
          "name": "stdout",
          "text": [
            "Runnning 1 of 2 folders\n",
            "Now working on /content/drive/MyDrive/Colab Notebooks/MatSE597/Project/test/IPP_5%_6_0.88_2.22_1.45...............\n",
            "Runnning 2 of 2 folders\n",
            "Now working on /content/drive/MyDrive/Colab Notebooks/MatSE597/Project/test/R_10_IPP_20%_3_4.46_2.01_1.33...............\n"
          ]
        }
      ]
    },
    {
      "cell_type": "code",
      "execution_count": 33,
      "metadata": {
        "id": "UY29xtZF_kVP"
      },
      "outputs": [],
      "source": [
        "import cv2\n",
        "import numpy as np\n",
        "import os\n",
        "import csv\n",
        "\n",
        "def calculate_thickness(input_dirs, pixel_size=7.5):\n",
        "    i = 1\n",
        "    for input_dir in input_dirs:\n",
        "        print(f'Runnning {i} of {len(input_dirs)} folders')\n",
        "        print(f'Now working on {input_dir}...............')\n",
        "         # Define the output directory as the same as input directory\n",
        "        output_dir = input_dir\n",
        "\n",
        "        # Define the output CSV file name as the same as the input directory name\n",
        "        output_file = os.path.join(output_dir, os.path.basename(input_dir) + '.csv')\n",
        "        # Initialize the output CSV file\n",
        "        with open(output_file, 'w', newline='') as csvfile:\n",
        "            writer = csv.writer(csvfile)\n",
        "            writer.writerow(['Image Name', 'Average White Pixels', 'Standard Deviation', 'Average Thickness(µm)', 'Standard Deviation of Thickness', 'UTS (MPa)',\n",
        "                             'Elongation at break (%)', \"Young's Modulus (GPa)\" ])\n",
        "\n",
        "        # Loop over all the images in the input directory\n",
        "        for filename in os.listdir(input_dir):\n",
        "            if filename.endswith('.jpg') or filename.endswith('.png'):\n",
        "                # Load the binary image\n",
        "                img = cv2.imread(os.path.join(input_dir, filename), 0)\n",
        "                ret, thresh = cv2.threshold(img, 0, 255, cv2.THRESH_BINARY + cv2.THRESH_OTSU)\n",
        "\n",
        "                # Scan each width position and compute the average continuous white pixels\n",
        "                height, width = thresh.shape\n",
        "                avg_white_pixels = []\n",
        "                for w in range(width):\n",
        "                    white_pixels = []\n",
        "                    for h in range(height):\n",
        "                        if thresh[h,w] == 255:\n",
        "                            white_pixels.append(h)\n",
        "                    if len(white_pixels) > 0:\n",
        "                        white_pixels = np.array(white_pixels)\n",
        "                        diff = np.diff(white_pixels)\n",
        "                        continuous = np.where(diff > 1)[0]\n",
        "                        if len(continuous) > 0:\n",
        "                            segments = np.split(white_pixels, continuous + 1)\n",
        "                            lengths = [len(segment) for segment in segments]\n",
        "                            avg_white_pixels.append(sum(lengths) / len(lengths))\n",
        "                        else:\n",
        "                            avg_white_pixels.append(len(white_pixels))\n",
        "                    else:\n",
        "                        avg_white_pixels.append(0)\n",
        "\n",
        "                # Compute the average and standard deviation of the average continuous white pixels\n",
        "                avg = np.mean(avg_white_pixels)\n",
        "                std = np.std(avg_white_pixels)\n",
        "                avg_thickness = avg * pixel_size\n",
        "                std_thickness = std * pixel_size\n",
        "                folder_name = os.path.basename(os.path.normpath(input_dir))\n",
        "                uts_value = folder_name.split('_')[-3]\n",
        "                elongation = float(folder_name.split('_')[-1])\n",
        "                ym = float(folder_name.split('_')[-2])\n",
        "\n",
        "                # Append the data to the output CSV file\n",
        "                with open(output_file, 'a', newline='') as csvfile:\n",
        "                    writer = csv.writer(csvfile)\n",
        "                    writer.writerow([filename, avg, std, avg_thickness, std_thickness, uts_value, elongation, ym])\n",
        "\n",
        "        i += 1"
      ]
    },
    {
      "cell_type": "code",
      "execution_count": null,
      "metadata": {
        "id": "tm__8DHKBHkI",
        "colab": {
          "base_uri": "https://localhost:8080/"
        },
        "outputId": "7e3a378e-5eef-4550-ca67-aaf1a81fe685"
      },
      "outputs": [
        {
          "output_type": "stream",
          "name": "stdout",
          "text": [
            "IPP_5%_6_0.88\n",
            "IPP_5%_8_0.97\n",
            "R_10_IPP_20%_3_4.46\n"
          ]
        }
      ],
      "source": [
        "def get_folders(path):\n",
        "    folders = []\n",
        "    for root, dirs, files in os.walk(path):\n",
        "        for dir in dirs:\n",
        "            print(dir)\n",
        "            folders.append(os.path.join(root, dir))\n",
        "    return folders\n",
        "\n",
        "folders = get_folders('/content/drive/MyDrive/Colab Notebooks/MatSE597/Project/Images/test')"
      ]
    },
    {
      "cell_type": "code",
      "execution_count": null,
      "metadata": {
        "colab": {
          "base_uri": "https://localhost:8080/"
        },
        "id": "eDK29Z3H-ChU",
        "outputId": "7e00ec96-e320-47ab-f697-aeb59b701a9a"
      },
      "outputs": [
        {
          "output_type": "stream",
          "name": "stdout",
          "text": [
            "3\n"
          ]
        }
      ],
      "source": [
        "print(len(folders))"
      ]
    },
    {
      "cell_type": "code",
      "execution_count": 34,
      "metadata": {
        "colab": {
          "base_uri": "https://localhost:8080/"
        },
        "id": "tlG5cp5P7So2",
        "outputId": "3423664b-193e-4248-ce1c-03522aeacdf5"
      },
      "outputs": [
        {
          "output_type": "stream",
          "name": "stdout",
          "text": [
            "Runnning 1 of 2 folders\n",
            "Now working on /content/drive/MyDrive/Colab Notebooks/MatSE597/Project/test/IPP_5%_6_0.88_2.22_1.45...............\n",
            "Runnning 2 of 2 folders\n",
            "Now working on /content/drive/MyDrive/Colab Notebooks/MatSE597/Project/test/R_10_IPP_20%_3_4.46_2.01_1.33...............\n"
          ]
        }
      ],
      "source": [
        "calculate_thickness(folders)"
      ]
    }
  ],
  "metadata": {
    "colab": {
      "provenance": [],
      "authorship_tag": "ABX9TyNingp//X7uz/Vm8l9urSmx",
      "include_colab_link": true
    },
    "kernelspec": {
      "display_name": "Python 3",
      "name": "python3"
    },
    "language_info": {
      "name": "python"
    }
  },
  "nbformat": 4,
  "nbformat_minor": 0
}